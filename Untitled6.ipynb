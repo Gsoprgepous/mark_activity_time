{
  "nbformat": 4,
  "nbformat_minor": 0,
  "metadata": {
    "colab": {
      "provenance": []
    },
    "kernelspec": {
      "name": "python3",
      "display_name": "Python 3"
    },
    "language_info": {
      "name": "python"
    }
  },
  "cells": [
    {
      "cell_type": "code",
      "source": [
        "!pip install python-telegram-bot"
      ],
      "metadata": {
        "colab": {
          "base_uri": "https://localhost:8080/"
        },
        "id": "1siHvRMQyItc",
        "outputId": "8d90b875-467e-4515-d7e9-650a48cbb709"
      },
      "execution_count": 1,
      "outputs": [
        {
          "output_type": "stream",
          "name": "stdout",
          "text": [
            "Collecting python-telegram-bot\n",
            "  Downloading python_telegram_bot-21.10-py3-none-any.whl.metadata (17 kB)\n",
            "Requirement already satisfied: httpx~=0.27 in /usr/local/lib/python3.11/dist-packages (from python-telegram-bot) (0.28.1)\n",
            "Requirement already satisfied: anyio in /usr/local/lib/python3.11/dist-packages (from httpx~=0.27->python-telegram-bot) (3.7.1)\n",
            "Requirement already satisfied: certifi in /usr/local/lib/python3.11/dist-packages (from httpx~=0.27->python-telegram-bot) (2024.12.14)\n",
            "Requirement already satisfied: httpcore==1.* in /usr/local/lib/python3.11/dist-packages (from httpx~=0.27->python-telegram-bot) (1.0.7)\n",
            "Requirement already satisfied: idna in /usr/local/lib/python3.11/dist-packages (from httpx~=0.27->python-telegram-bot) (3.10)\n",
            "Requirement already satisfied: h11<0.15,>=0.13 in /usr/local/lib/python3.11/dist-packages (from httpcore==1.*->httpx~=0.27->python-telegram-bot) (0.14.0)\n",
            "Requirement already satisfied: sniffio>=1.1 in /usr/local/lib/python3.11/dist-packages (from anyio->httpx~=0.27->python-telegram-bot) (1.3.1)\n",
            "Downloading python_telegram_bot-21.10-py3-none-any.whl (669 kB)\n",
            "\u001b[2K   \u001b[90m━━━━━━━━━━━━━━━━━━━━━━━━━━━━━━━━━━━━━━━━\u001b[0m \u001b[32m669.5/669.5 kB\u001b[0m \u001b[31m15.3 MB/s\u001b[0m eta \u001b[36m0:00:00\u001b[0m\n",
            "\u001b[?25hInstalling collected packages: python-telegram-bot\n",
            "Successfully installed python-telegram-bot-21.10\n"
          ]
        }
      ]
    },
    {
      "cell_type": "code",
      "source": [
        "!pip install python-telegram-bot --upgrade"
      ],
      "metadata": {
        "colab": {
          "base_uri": "https://localhost:8080/"
        },
        "id": "qlOtWf6ZzpZ1",
        "outputId": "9abda759-b96d-4fcf-e451-1a71f40bab5d"
      },
      "execution_count": 3,
      "outputs": [
        {
          "output_type": "stream",
          "name": "stdout",
          "text": [
            "Requirement already satisfied: python-telegram-bot in /usr/local/lib/python3.11/dist-packages (21.10)\n",
            "Requirement already satisfied: httpx~=0.27 in /usr/local/lib/python3.11/dist-packages (from python-telegram-bot) (0.28.1)\n",
            "Requirement already satisfied: anyio in /usr/local/lib/python3.11/dist-packages (from httpx~=0.27->python-telegram-bot) (3.7.1)\n",
            "Requirement already satisfied: certifi in /usr/local/lib/python3.11/dist-packages (from httpx~=0.27->python-telegram-bot) (2024.12.14)\n",
            "Requirement already satisfied: httpcore==1.* in /usr/local/lib/python3.11/dist-packages (from httpx~=0.27->python-telegram-bot) (1.0.7)\n",
            "Requirement already satisfied: idna in /usr/local/lib/python3.11/dist-packages (from httpx~=0.27->python-telegram-bot) (3.10)\n",
            "Requirement already satisfied: h11<0.15,>=0.13 in /usr/local/lib/python3.11/dist-packages (from httpcore==1.*->httpx~=0.27->python-telegram-bot) (0.14.0)\n",
            "Requirement already satisfied: sniffio>=1.1 in /usr/local/lib/python3.11/dist-packages (from anyio->httpx~=0.27->python-telegram-bot) (1.3.1)\n"
          ]
        }
      ]
    },
    {
      "cell_type": "code",
      "source": [
        "import logging\n",
        "import sqlite3\n",
        "import asyncio\n",
        "from datetime import datetime\n",
        "from telegram import Update, InlineKeyboardButton, InlineKeyboardMarkup\n",
        "from telegram.ext import (\n",
        "    ApplicationBuilder, CommandHandler, CallbackQueryHandler, MessageHandler,\n",
        "    filters, CallbackContext\n",
        ")\n",
        "from google.colab import output\n",
        "output.enable_custom_widget_manager()\n",
        "\n",
        "# Настройка логирования\n",
        "logging.basicConfig(format='%(asctime)s - %(name)s - %(levelname)s - %(message)s', level=logging.INFO)\n",
        "logger = logging.getLogger(__name__)\n",
        "\n",
        "# Состояния\n",
        "START, ASK_ACTIVITY, START_TIMER, END_TIMER = range(4)\n",
        "\n",
        "# Хранение временных данных пользователей\n",
        "user_data = {}\n",
        "\n",
        "# --- БАЗА ДАННЫХ ---\n",
        "def init_db():\n",
        "    \"\"\"Создает таблицу, если ее нет\"\"\"\n",
        "    conn = sqlite3.connect(\"activities.db\")\n",
        "    cursor = conn.cursor()\n",
        "    cursor.execute(\"\"\"\n",
        "        CREATE TABLE IF NOT EXISTS activities (\n",
        "            id INTEGER PRIMARY KEY AUTOINCREMENT,\n",
        "            user_id INTEGER,\n",
        "            activity TEXT,\n",
        "            start_time TEXT,\n",
        "            end_time TEXT,\n",
        "            duration INTEGER\n",
        "        )\n",
        "    \"\"\")\n",
        "    conn.commit()\n",
        "    conn.close()\n",
        "\n",
        "def save_activity(user_id, activity, start_time, end_time, duration):\n",
        "    \"\"\"Сохраняет данные в базу\"\"\"\n",
        "    conn = sqlite3.connect(\"activities.db\")\n",
        "    cursor = conn.cursor()\n",
        "    cursor.execute(\"INSERT INTO activities (user_id, activity, start_time, end_time, duration) VALUES (?, ?, ?, ?, ?)\",\n",
        "                   (user_id, activity, start_time, end_time, duration))\n",
        "    conn.commit()\n",
        "    conn.close()\n",
        "\n",
        "# --- ФУНКЦИИ БОТА ---\n",
        "\n",
        "async def start(update: Update, context: CallbackContext) -> int:\n",
        "    \"\"\"Приветственное сообщение\"\"\"\n",
        "    user_id = update.message.from_user.id\n",
        "    user_data[user_id] = {'state': START}\n",
        "\n",
        "    keyboard = [[InlineKeyboardButton(\"Начать\", callback_data='start')]]\n",
        "    reply_markup = InlineKeyboardMarkup(keyboard)\n",
        "\n",
        "    await update.message.reply_text('Привет! Нажмите \"Начать\", чтобы начать работу.', reply_markup=reply_markup)\n",
        "    return START\n",
        "\n",
        "async def button(update: Update, context: CallbackContext) -> int:\n",
        "    \"\"\"Обработчик кнопок\"\"\"\n",
        "    query = update.callback_query\n",
        "    await query.answer()\n",
        "    user_id = query.from_user.id\n",
        "\n",
        "    if query.data == 'start':\n",
        "        await query.edit_message_text(text=\"Введите название активности:\")\n",
        "        user_data[user_id]['state'] = ASK_ACTIVITY\n",
        "        return ASK_ACTIVITY\n",
        "\n",
        "    elif query.data == 'start_timer':\n",
        "        user_data[user_id]['start_time'] = datetime.now()\n",
        "        keyboard = [[InlineKeyboardButton(\"Остановить таймер\", callback_data='stop_timer')]]\n",
        "        reply_markup = InlineKeyboardMarkup(keyboard)\n",
        "\n",
        "        await query.edit_message_text(\n",
        "            text=f\"Таймер запущен! Активность: {user_data[user_id]['activity']}\",\n",
        "            reply_markup=reply_markup\n",
        "        )\n",
        "        user_data[user_id]['state'] = START_TIMER\n",
        "        return START_TIMER\n",
        "\n",
        "    elif query.data == 'stop_timer':\n",
        "        return await stop_timer(update, context, manual_stop=True)\n",
        "\n",
        "async def activity_handler(update: Update, context: CallbackContext) -> int:\n",
        "    \"\"\"Сохранение активности и запуск таймера\"\"\"\n",
        "    user_id = update.message.from_user.id\n",
        "    if user_data[user_id]['state'] == ASK_ACTIVITY:\n",
        "        user_data[user_id]['activity'] = update.message.text\n",
        "\n",
        "        keyboard = [[InlineKeyboardButton(\"Запустить таймер\", callback_data='start_timer')]]\n",
        "        reply_markup = InlineKeyboardMarkup(keyboard)\n",
        "\n",
        "        await update.message.reply_text(f\"Активность: {user_data[user_id]['activity']}. Запустить таймер?\", reply_markup=reply_markup)\n",
        "        return START_TIMER\n",
        "\n",
        "async def stop_timer(update: Update, context: CallbackContext, manual_stop=False) -> int:\n",
        "    \"\"\"Остановка таймера и запись в базу\"\"\"\n",
        "    user_id = update.callback_query.from_user.id\n",
        "    activity = user_data[user_id].get('activity', 'Неизвестно')\n",
        "    start_time = user_data[user_id].get('start_time', datetime.now())\n",
        "    end_time = datetime.now()\n",
        "    duration = int((end_time - start_time).total_seconds() // 60)  # В минутах\n",
        "\n",
        "    save_activity(user_id, activity, start_time.strftime('%Y-%m-%d %H:%M:%S'),\n",
        "                  end_time.strftime('%Y-%m-%d %H:%M:%S'), duration)\n",
        "\n",
        "    await update.callback_query.edit_message_text(\n",
        "        text=f\"Таймер остановлен! Активность: {activity}. Время: {duration} мин.\"\n",
        "    )\n",
        "    user_data[user_id]['state'] = END_TIMER\n",
        "    return END_TIMER\n",
        "\n",
        "async def run_bot():\n",
        "    \"\"\"Запуск бота\"\"\"\n",
        "    application = ApplicationBuilder().token('xxxxx').build()\n",
        "\n",
        "    application.add_handler(CommandHandler(\"start\", start))\n",
        "    application.add_handler(CallbackQueryHandler(button))\n",
        "    application.add_handler(MessageHandler(filters.TEXT & (~filters.COMMAND), activity_handler))\n",
        "\n",
        "    await application.initialize()\n",
        "    await application.start()\n",
        "    print(\"Бот запущен!\")\n",
        "    await application.updater.start_polling()\n",
        "    await application.idle()\n",
        "\n",
        "# --- ЗАПУСК В COLAB ---\n",
        "init_db()  # Создаем базу при запуске\n",
        "\n",
        "if 'bot_task' in globals():\n",
        "    bot_task.cancel()\n",
        "\n",
        "bot_task = asyncio.create_task(run_bot())\n"
      ],
      "metadata": {
        "id": "BhSpdpnF6Caw"
      },
      "execution_count": 14,
      "outputs": []
    }
  ]
}